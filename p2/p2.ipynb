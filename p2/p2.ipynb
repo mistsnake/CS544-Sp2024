{
 "cells": [
  {
   "cell_type": "markdown",
   "id": "e4e2d20d",
   "metadata": {},
   "source": [
    "CS544: Introduction to Big Data Systems (Spring 2024)\n",
    "\n",
    "Student: Anais Corona Perez"
   ]
  },
  {
   "cell_type": "markdown",
   "id": "e9f8c063",
   "metadata": {},
   "source": [
    "# P2: Predicting COVID Deaths with PyTorch"
   ]
  },
  {
   "cell_type": "markdown",
   "id": "3e54b363",
   "metadata": {},
   "source": [
    "# Imports"
   ]
  },
  {
   "cell_type": "code",
   "execution_count": 1,
   "id": "762cfb54",
   "metadata": {},
   "outputs": [],
   "source": [
    "import numpy as np\n",
    "import pandas as pd\n",
    "import torch"
   ]
  },
  {
   "cell_type": "markdown",
   "id": "dff08717",
   "metadata": {},
   "source": [
    "## Part 1: Setup\n",
    "Build the Dockerfile we give you (feel to make edits if you like) to create your environment. Run the container, setup an SSH tunnel, and open JupyterLab in your browser. Create a notebook called p2.ipynb in the nb directory."
   ]
  },
  {
   "cell_type": "code",
   "execution_count": 2,
   "id": "78cc3212",
   "metadata": {},
   "outputs": [],
   "source": [
    "# Import Data\n",
    "test = pd.read_csv('test.csv')\n",
    "train = pd.read_csv('train.csv')\n",
    "\n",
    "# Setup Training and Testing Datasets\n",
    "trainY = torch.tensor(train.iloc[:,-1], dtype = torch.float64).reshape((1044, 1))\n",
    "trainX = torch.tensor(train.iloc[:, 0:10].values, dtype = torch.float64)\n",
    "\n",
    "testY = torch.tensor(test.iloc[:,-1], dtype = torch.float64).reshape((348, 1))\n",
    "testX = torch.tensor(test.iloc[:, 0:10].values, dtype = torch.float64)"
   ]
  },
  {
   "cell_type": "markdown",
   "id": "f0ae7c7b",
   "metadata": {},
   "source": [
    "**Q1: about how many bytes does trainX consume?**"
   ]
  },
  {
   "cell_type": "code",
   "execution_count": 3,
   "id": "26e49a45",
   "metadata": {},
   "outputs": [
    {
     "data": {
      "text/plain": [
       "83520"
      ]
     },
     "execution_count": 3,
     "metadata": {},
     "output_type": "execute_result"
    }
   ],
   "source": [
    "#q1\n",
    "int(trainX.shape[0]*trainX.shape[1]*64/8)"
   ]
  },
  {
   "cell_type": "markdown",
   "id": "fc842adf",
   "metadata": {},
   "source": [
    "**Q2: what is the biggest difference we would have any one cell if we used float16 instead of float64?**"
   ]
  },
  {
   "cell_type": "code",
   "execution_count": 4,
   "id": "8a6f9c51",
   "metadata": {},
   "outputs": [
    {
     "data": {
      "text/plain": [
       "0.0"
      ]
     },
     "execution_count": 4,
     "metadata": {},
     "output_type": "execute_result"
    }
   ],
   "source": [
    "#q2\n",
    "\n",
    "# Convert trainX to float16 --- then to float64\n",
    "converted_mat = trainX.to(dtype = torch.float16).to(dtype = torch.float64)\n",
    "\n",
    "# Subtract converted matrix from original\n",
    "torch.max(torch.abs(trainX - converted_mat)).item()"
   ]
  },
  {
   "cell_type": "markdown",
   "id": "e19465fd",
   "metadata": {},
   "source": [
    "**Q3: is a CUDA GPU available on your VM?**"
   ]
  },
  {
   "cell_type": "code",
   "execution_count": 5,
   "id": "a297c3dc",
   "metadata": {},
   "outputs": [
    {
     "data": {
      "text/plain": [
       "False"
      ]
     },
     "execution_count": 5,
     "metadata": {},
     "output_type": "execute_result"
    }
   ],
   "source": [
    "#q3\n",
    "torch.cuda.is_available()"
   ]
  },
  {
   "cell_type": "markdown",
   "id": "b134215e",
   "metadata": {},
   "source": [
    "## Part 2: Prediction with Hardcoded Model\n",
    "\n",
    "Let's predict the number of COVID deaths in the test dataset under the assumption that the deathrate is 0.004 for those <60 and 0.03 for those >=60. Encode these assumptions as coefficients in a tensor by pasting the following:"
   ]
  },
  {
   "cell_type": "code",
   "execution_count": 6,
   "id": "d69f8579",
   "metadata": {},
   "outputs": [],
   "source": [
    "coef = torch.tensor([\n",
    "        [0.0040],\n",
    "        [0.0040],\n",
    "        [0.0040],\n",
    "        [0.0040],\n",
    "        [0.0040],\n",
    "        [0.0040], # POS_50_59_CP\n",
    "        [0.0300], # POS_60_69_CP\n",
    "        [0.0300],\n",
    "        [0.0300],\n",
    "        [0.0300]\n",
    "], dtype=trainX.dtype)"
   ]
  },
  {
   "cell_type": "markdown",
   "id": "d4c67885",
   "metadata": {},
   "source": [
    "**Q4: what is the predicted number of deaths for the first census tract?**"
   ]
  },
  {
   "cell_type": "code",
   "execution_count": 7,
   "id": "e4890d0a",
   "metadata": {},
   "outputs": [
    {
     "data": {
      "text/plain": [
       "9.844"
      ]
     },
     "execution_count": 7,
     "metadata": {},
     "output_type": "execute_result"
    }
   ],
   "source": [
    "#q4\n",
    "(testX[0]@coef).item()"
   ]
  },
  {
   "cell_type": "markdown",
   "id": "e5abc164",
   "metadata": {},
   "source": [
    "**Q5: what is the average number of predicted deaths, over the whole testX dataset?**"
   ]
  },
  {
   "cell_type": "code",
   "execution_count": 8,
   "id": "86382f99",
   "metadata": {},
   "outputs": [
    {
     "data": {
      "text/plain": [
       "12.073632183908048"
      ]
     },
     "execution_count": 8,
     "metadata": {},
     "output_type": "execute_result"
    }
   ],
   "source": [
    "#q5\n",
    "torch.mean(torch.matmul(testX, coef)).item()"
   ]
  },
  {
   "cell_type": "markdown",
   "id": "e50fd97a",
   "metadata": {},
   "source": [
    "## Part 3: Optimization\n",
    "\n",
    "Let's say `y = x^2 - 8x + 19`. We want to find the `x` value that minimizes `y`."
   ]
  },
  {
   "cell_type": "markdown",
   "id": "1768cabe",
   "metadata": {},
   "source": [
    "**Q6: first, what is y when x is a tensor containing 0.0?**"
   ]
  },
  {
   "cell_type": "code",
   "execution_count": 9,
   "id": "5e28d205",
   "metadata": {},
   "outputs": [
    {
     "data": {
      "text/plain": [
       "19.0"
      ]
     },
     "execution_count": 9,
     "metadata": {},
     "output_type": "execute_result"
    }
   ],
   "source": [
    "#q6\n",
    "x = torch.tensor(0.0, requires_grad = True)\n",
    "y = x**2 - 8*x + 19\n",
    "float(y)"
   ]
  },
  {
   "cell_type": "markdown",
   "id": "4c149557",
   "metadata": {},
   "source": [
    "**Q7: what x value minimizes y?**\n",
    "\n",
    "Write an optimization loop that uses `torch.optim.SGD`. You can experiment with the training rate and number of iterations, as long as you find a setup that gets approximately the right answer."
   ]
  },
  {
   "cell_type": "code",
   "execution_count": 10,
   "id": "707e5a12",
   "metadata": {},
   "outputs": [
    {
     "data": {
      "text/plain": [
       "3.9999403953552246"
      ]
     },
     "execution_count": 10,
     "metadata": {},
     "output_type": "execute_result"
    }
   ],
   "source": [
    "#q7\n",
    "optimizer = torch.optim.SGD([x], lr = 0.001)\n",
    "\n",
    "for epoch in range(10000):\n",
    "    y = x**2 - 8*x + 19\n",
    "    y.backward()\n",
    "    optimizer.step()\n",
    "    optimizer.zero_grad()\n",
    "x.item()"
   ]
  },
  {
   "cell_type": "markdown",
   "id": "0ad2276d",
   "metadata": {},
   "source": [
    "## Part 4: Linear Regression\n",
    "\n",
    "Use the `torch.zeros` function to initialize a 2-dimensional `coef` matrix of size and type that allows us to compute `trainX @ coef` (we won't bother with a bias factor in this exercise).\n"
   ]
  },
  {
   "cell_type": "markdown",
   "id": "6b6903e4",
   "metadata": {},
   "source": [
    "**Q8: what is the MSE (mean-square error) when we make predictions using this vector of zero coefficients?**\n",
    "\n",
    "You'll be comparing `trainX @ coef` to `trainY`"
   ]
  },
  {
   "cell_type": "code",
   "execution_count": 11,
   "id": "3a4faecc",
   "metadata": {},
   "outputs": [
    {
     "data": {
      "text/plain": [
       "197.8007662835249"
      ]
     },
     "execution_count": 11,
     "metadata": {},
     "output_type": "execute_result"
    }
   ],
   "source": [
    "#q8\n",
    "coef = torch.zeros(10, 1, dtype = trainX.dtype, requires_grad = True)\n",
    "MSE = sum((trainY-(trainX@coef))**2)/len(trainY)\n",
    "MSE.item()"
   ]
  },
  {
   "cell_type": "markdown",
   "id": "e02d8686",
   "metadata": {},
   "source": [
    "**Optimization**"
   ]
  },
  {
   "cell_type": "code",
   "execution_count": 12,
   "id": "e7afbb59",
   "metadata": {},
   "outputs": [],
   "source": [
    "torch.manual_seed(544)\n",
    "\n",
    "## Setup DataLoader ##\n",
    "ds = torch.utils.data.TensorDataset(trainX, trainY)\n",
    "dl = torch.utils.data.DataLoader(ds, batch_size=50, shuffle=True)\n",
    "\n",
    "## Setup Functions ##\n",
    "coef = torch.zeros(10, 1, dtype = trainX.dtype, requires_grad = True)\n",
    "loss_fn = torch.nn.MSELoss()\n",
    "optimizer = torch.optim.SGD([coef], lr = 0.000002)\n",
    "\n",
    "\n",
    "## Train ##\n",
    "for epoch in range(500):\n",
    "    for batchX, batchY in dl:\n",
    "        predictions = batchX@coef\n",
    "        loss = loss_fn(predictions, batchY)\n",
    "        loss.backward() # Compute gradient and add to coefficients\n",
    "        optimizer.step()\n",
    "        optimizer.zero_grad()"
   ]
  },
  {
   "cell_type": "markdown",
   "id": "ed6cff62",
   "metadata": {},
   "source": [
    "**Q9: what is the MSE over the training data, using the coefficients resulting from the above training?**"
   ]
  },
  {
   "cell_type": "code",
   "execution_count": 13,
   "id": "d92803ab",
   "metadata": {},
   "outputs": [
    {
     "data": {
      "text/plain": [
       "26.8113940147193"
      ]
     },
     "execution_count": 13,
     "metadata": {},
     "output_type": "execute_result"
    }
   ],
   "source": [
    "#q9\n",
    "loss_fn(trainX @ coef, trainY).item()"
   ]
  },
  {
   "cell_type": "markdown",
   "id": "fe1a82f7",
   "metadata": {},
   "source": [
    "**Q10: what is the MSE over the test data?**"
   ]
  },
  {
   "cell_type": "code",
   "execution_count": 14,
   "id": "daada78e",
   "metadata": {},
   "outputs": [
    {
     "data": {
      "text/plain": [
       "29.05854692548551"
      ]
     },
     "execution_count": 14,
     "metadata": {},
     "output_type": "execute_result"
    }
   ],
   "source": [
    "#q10\n",
    "loss_fn(testX @ coef, testY).item()"
   ]
  }
 ],
 "metadata": {
  "kernelspec": {
   "display_name": "Python 3 (ipykernel)",
   "language": "python",
   "name": "python3"
  },
  "language_info": {
   "codemirror_mode": {
    "name": "ipython",
    "version": 3
   },
   "file_extension": ".py",
   "mimetype": "text/x-python",
   "name": "python",
   "nbconvert_exporter": "python",
   "pygments_lexer": "ipython3",
   "version": "3.10.13"
  }
 },
 "nbformat": 4,
 "nbformat_minor": 5
}
